{
 "cells": [
  {
   "cell_type": "code",
   "execution_count": 15,
   "metadata": {
    "collapsed": true,
    "ExecuteTime": {
     "start_time": "2023-08-25T17:32:41.137723Z",
     "end_time": "2023-08-25T17:32:41.141490Z"
    }
   },
   "outputs": [],
   "source": [
    "import pandas as pd"
   ]
  },
  {
   "cell_type": "code",
   "execution_count": 16,
   "outputs": [],
   "source": [
    "# df = pd.read_csv(\"../data/row/train_dataset_Датасет.csv\")\n",
    "df = pd.read_csv(\"../train_dataset_Датасет.csv\")"
   ],
   "metadata": {
    "collapsed": false,
    "ExecuteTime": {
     "start_time": "2023-08-25T17:32:41.383578Z",
     "end_time": "2023-08-25T17:32:41.422428Z"
    }
   }
  },
  {
   "cell_type": "code",
   "execution_count": 17,
   "outputs": [
    {
     "data": {
      "text/plain": "                                            QUESTION  \\\n0           Какие основания для получения 33 услуги?   \n1  Какие основания для получения предоставления д...   \n2  Какие основания для получения единовременной к...   \n3                 Какие основания для детской карты?   \n4  Какие условия являются обязательными для получ...   \n\n                                              ANSWER  \n0  Заявителем является родитель (усыновитель) реб...  \n1  Заявителем является родитель (усыновитель) реб...  \n2  Заявителем является родитель (усыновитель) реб...  \n3  Заявителем является родитель (усыновитель) реб...  \n4  ребенок - гражданин РФ, имеющий место жительст...  ",
      "text/html": "<div>\n<style scoped>\n    .dataframe tbody tr th:only-of-type {\n        vertical-align: middle;\n    }\n\n    .dataframe tbody tr th {\n        vertical-align: top;\n    }\n\n    .dataframe thead th {\n        text-align: right;\n    }\n</style>\n<table border=\"1\" class=\"dataframe\">\n  <thead>\n    <tr style=\"text-align: right;\">\n      <th></th>\n      <th>QUESTION</th>\n      <th>ANSWER</th>\n    </tr>\n  </thead>\n  <tbody>\n    <tr>\n      <th>0</th>\n      <td>Какие основания для получения 33 услуги?</td>\n      <td>Заявителем является родитель (усыновитель) реб...</td>\n    </tr>\n    <tr>\n      <th>1</th>\n      <td>Какие основания для получения предоставления д...</td>\n      <td>Заявителем является родитель (усыновитель) реб...</td>\n    </tr>\n    <tr>\n      <th>2</th>\n      <td>Какие основания для получения единовременной к...</td>\n      <td>Заявителем является родитель (усыновитель) реб...</td>\n    </tr>\n    <tr>\n      <th>3</th>\n      <td>Какие основания для детской карты?</td>\n      <td>Заявителем является родитель (усыновитель) реб...</td>\n    </tr>\n    <tr>\n      <th>4</th>\n      <td>Какие условия являются обязательными для получ...</td>\n      <td>ребенок - гражданин РФ, имеющий место жительст...</td>\n    </tr>\n  </tbody>\n</table>\n</div>"
     },
     "execution_count": 17,
     "metadata": {},
     "output_type": "execute_result"
    }
   ],
   "source": [
    "df.head()"
   ],
   "metadata": {
    "collapsed": false,
    "ExecuteTime": {
     "start_time": "2023-08-25T17:32:41.605916Z",
     "end_time": "2023-08-25T17:32:41.608690Z"
    }
   }
  },
  {
   "cell_type": "code",
   "execution_count": null,
   "outputs": [],
   "source": [],
   "metadata": {
    "collapsed": false
   }
  }
 ],
 "metadata": {
  "kernelspec": {
   "display_name": "Python 3",
   "language": "python",
   "name": "python3"
  },
  "language_info": {
   "codemirror_mode": {
    "name": "ipython",
    "version": 2
   },
   "file_extension": ".py",
   "mimetype": "text/x-python",
   "name": "python",
   "nbconvert_exporter": "python",
   "pygments_lexer": "ipython2",
   "version": "2.7.6"
  }
 },
 "nbformat": 4,
 "nbformat_minor": 0
}
